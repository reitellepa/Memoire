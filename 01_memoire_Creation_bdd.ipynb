{
 "cells": [
  {
   "cell_type": "code",
   "execution_count": null,
   "id": "eb434630-750b-4b56-82ca-5d0a8d732d08",
   "metadata": {},
   "outputs": [],
   "source": []
  },
  {
   "cell_type": "code",
   "execution_count": 1,
   "id": "8dc95f58-6b9d-4ae0-844e-ff19e37b4d96",
   "metadata": {},
   "outputs": [],
   "source": [
    "from SPARQLWrapper import SPARQLWrapper, SPARQLWrapper2, JSON, TURTLE, XML, RDFXML\n",
    "import pandas as pd\n",
    "import string\n",
    "\n",
    "import matplotlib.pyplot as plt"
   ]
  },
  {
   "cell_type": "code",
   "execution_count": 2,
   "id": "c98eb5cf-ec35-4d0c-9fe4-b58d3b7b6dae",
   "metadata": {},
   "outputs": [],
   "source": [
    "import pprint\n",
    "import csv\n",
    "import ast\n",
    "import re\n",
    "\n",
    "from collections import Counter\n",
    "from operator import itemgetter\n",
    "\n",
    "import sqlite3 as sql\n",
    "import time\n",
    "\n",
    "from importlib import reload\n",
    "from shutil import copyfile"
   ]
  },
  {
   "cell_type": "code",
   "execution_count": 3,
   "id": "ce8720e1-7f22-40eb-957d-3d3118ac665d",
   "metadata": {},
   "outputs": [],
   "source": [
    "#definition de la bdd\n",
    "db = 'data/memoire.db'"
   ]
  },
  {
   "cell_type": "code",
   "execution_count": 9,
   "id": "d6ec7e8b-be1f-417c-a57a-3ae13b7b6850",
   "metadata": {},
   "outputs": [],
   "source": [
    "#connexion à la bdd, crée la bdd si elle n'existe pas encore\n",
    "cn=sql.connect(db)"
   ]
  },
  {
   "cell_type": "code",
   "execution_count": 5,
   "id": "27468d99-3d77-415a-9b91-c08f57537bef",
   "metadata": {},
   "outputs": [],
   "source": [
    "#suppression de table dans la BDD\n",
    "#cursor = cn.cursor()\n",
    "#delete_table = \"\"\"DROP TABLE nom_de_la_table\"\"\"\n",
    "#cursor.execute(delete_table)"
   ]
  },
  {
   "cell_type": "code",
   "execution_count": 27,
   "id": "14d5e425-54e5-46ba-a357-87bef7cd4150",
   "metadata": {},
   "outputs": [
    {
     "data": {
      "text/plain": [
       "<sqlite3.Cursor at 0x203f84001f0>"
      ]
     },
     "execution_count": 27,
     "metadata": {},
     "output_type": "execute_result"
    }
   ],
   "source": [
    "#Autoriser les foreign keys\n",
    "#cn.execute('PRAGMA foreign_keys = 1')"
   ]
  },
  {
   "cell_type": "markdown",
   "id": "7cbe7c4f-968a-41c9-afcb-dcac3cf8bbc9",
   "metadata": {},
   "source": [
    "## lecture du fichier CSV"
   ]
  },
  {
   "cell_type": "code",
   "execution_count": 6,
   "id": "e3018c43-5bc0-4795-9c0f-6a53405d99b5",
   "metadata": {},
   "outputs": [
    {
     "data": {
      "text/plain": [
       "['N°_dépôt',\n",
       " 'N°_caisse',\n",
       " 'Localité',\n",
       " 'Année',\n",
       " 'N°_cantonal',\n",
       " 'Lieu-dit',\n",
       " 'N°_terrain',\n",
       " 'Récolement_LM_2021',\n",
       " 'Matière',\n",
       " 'Caractéristique',\n",
       " \"Description_de_l'objet\",\n",
       " 'Ramassage_surface',\n",
       " 'Déblais',\n",
       " 'N°_couche',\n",
       " 'Situation',\n",
       " 'Altitude',\n",
       " 'Loc_Nord',\n",
       " 'Loc_Sud',\n",
       " 'N°_structure',\n",
       " 'N°_décapage',\n",
       " 'UF',\n",
       " 'Date_découverte',\n",
       " 'Période_culturelle',\n",
       " 'Datation',\n",
       " 'Année_de_restauration',\n",
       " 'Etat_de_conservation',\n",
       " 'N°_Photos_DE',\n",
       " 'Fiche_ITMS_oui',\n",
       " 'Fiche_ITMS_non',\n",
       " 'Publication',\n",
       " 'Dessin_(+_échelle)',\n",
       " 'Inventorier_le,_par_Nom_/_date',\n",
       " 'Envoi_MR',\n",
       " 'Remarque_restauration',\n",
       " 'Retour_MR',\n",
       " 'Remarque']"
      ]
     },
     "execution_count": 6,
     "metadata": {},
     "output_type": "execute_result"
    }
   ],
   "source": [
    "file= 'Sil_2012.csv'\n",
    "sil_list = []\n",
    "with open(file, newline='') as csvfile:\n",
    "    read = csv.reader(csvfile, delimiter=';', quotechar='\"')\n",
    "    for row in read:\n",
    "        sil_list.append(row)\n",
    "sil_list[0]\n",
    "#sil_list[0][2]"
   ]
  },
  {
   "cell_type": "markdown",
   "id": "73d30aca-beb8-47a4-8be6-ba47c9626395",
   "metadata": {},
   "source": [
    "## Création d'un tableau Pandas"
   ]
  },
  {
   "cell_type": "code",
   "execution_count": 7,
   "id": "9c911da8-bde0-479d-98d9-6856834eb7c4",
   "metadata": {},
   "outputs": [
    {
     "data": {
      "text/plain": [
       "['N°_caisse', 'Localité', 'Année', 'N°_cantonal']"
      ]
     },
     "execution_count": 7,
     "metadata": {},
     "output_type": "execute_result"
    }
   ],
   "source": [
    "#crée une liste des noms des colonnes pour éviter qu'il y ait des parenthèses dans notre base de données\n",
    "colonnes=[]\n",
    "for i in sil_list[0]:\n",
    "    colonnes.append(i)\n",
    "colonnes[1:5]"
   ]
  },
  {
   "cell_type": "code",
   "execution_count": 8,
   "id": "9186ff56-52cd-4a8f-a5d8-2db8cd0a891e",
   "metadata": {},
   "outputs": [
    {
     "name": "stdout",
     "output_type": "stream",
     "text": [
      "878\n"
     ]
    },
    {
     "data": {
      "text/html": [
       "<div>\n",
       "<style scoped>\n",
       "    .dataframe tbody tr th:only-of-type {\n",
       "        vertical-align: middle;\n",
       "    }\n",
       "\n",
       "    .dataframe tbody tr th {\n",
       "        vertical-align: top;\n",
       "    }\n",
       "\n",
       "    .dataframe thead th {\n",
       "        text-align: right;\n",
       "    }\n",
       "</style>\n",
       "<table border=\"1\" class=\"dataframe\">\n",
       "  <thead>\n",
       "    <tr style=\"text-align: right;\">\n",
       "      <th></th>\n",
       "      <th>N°_dépôt</th>\n",
       "      <th>N°_caisse</th>\n",
       "      <th>Localité</th>\n",
       "      <th>Année</th>\n",
       "      <th>N°_cantonal</th>\n",
       "      <th>Lieu-dit</th>\n",
       "      <th>N°_terrain</th>\n",
       "      <th>Matière</th>\n",
       "      <th>Caractéristique</th>\n",
       "      <th>Description_de_l'objet</th>\n",
       "      <th>Altitude</th>\n",
       "      <th>UF</th>\n",
       "      <th>Période_culturelle</th>\n",
       "      <th>Année_de_restauration</th>\n",
       "      <th>Etat_de_conservation</th>\n",
       "      <th>Fiche_ITMS_non</th>\n",
       "      <th>Remarque_restauration</th>\n",
       "    </tr>\n",
       "  </thead>\n",
       "  <tbody>\n",
       "    <tr>\n",
       "      <th>0</th>\n",
       "      <td>Spira</td>\n",
       "      <td>33</td>\n",
       "      <td>CHE</td>\n",
       "      <td>2012</td>\n",
       "      <td>7821</td>\n",
       "      <td>BR</td>\n",
       "      <td>1397</td>\n",
       "      <td>lit</td>\n",
       "      <td>sil</td>\n",
       "      <td>1 éclat</td>\n",
       "      <td></td>\n",
       "      <td>A3</td>\n",
       "      <td></td>\n",
       "      <td></td>\n",
       "      <td></td>\n",
       "      <td></td>\n",
       "      <td></td>\n",
       "    </tr>\n",
       "    <tr>\n",
       "      <th>1</th>\n",
       "      <td>Spira</td>\n",
       "      <td>33</td>\n",
       "      <td>CHE</td>\n",
       "      <td>2012</td>\n",
       "      <td>7822</td>\n",
       "      <td>BR</td>\n",
       "      <td>1398</td>\n",
       "      <td>lit</td>\n",
       "      <td>sil</td>\n",
       "      <td>1 éclat</td>\n",
       "      <td></td>\n",
       "      <td>A3</td>\n",
       "      <td></td>\n",
       "      <td></td>\n",
       "      <td></td>\n",
       "      <td></td>\n",
       "      <td></td>\n",
       "    </tr>\n",
       "    <tr>\n",
       "      <th>2</th>\n",
       "      <td>Spira</td>\n",
       "      <td>33</td>\n",
       "      <td>CHE</td>\n",
       "      <td>2012</td>\n",
       "      <td>7823</td>\n",
       "      <td>BR</td>\n",
       "      <td>1400</td>\n",
       "      <td>lit</td>\n",
       "      <td>sil</td>\n",
       "      <td>1 éclat (grand)</td>\n",
       "      <td></td>\n",
       "      <td>A3</td>\n",
       "      <td></td>\n",
       "      <td></td>\n",
       "      <td></td>\n",
       "      <td></td>\n",
       "      <td></td>\n",
       "    </tr>\n",
       "    <tr>\n",
       "      <th>3</th>\n",
       "      <td>Spira</td>\n",
       "      <td>33</td>\n",
       "      <td>CHE</td>\n",
       "      <td>2012</td>\n",
       "      <td>7824</td>\n",
       "      <td>BR</td>\n",
       "      <td>1404</td>\n",
       "      <td>lit</td>\n",
       "      <td>sil</td>\n",
       "      <td>1 éclat (grand)</td>\n",
       "      <td></td>\n",
       "      <td>A3</td>\n",
       "      <td></td>\n",
       "      <td></td>\n",
       "      <td></td>\n",
       "      <td></td>\n",
       "      <td></td>\n",
       "    </tr>\n",
       "    <tr>\n",
       "      <th>4</th>\n",
       "      <td>Spira</td>\n",
       "      <td>33</td>\n",
       "      <td>CHE</td>\n",
       "      <td>2012</td>\n",
       "      <td>7825</td>\n",
       "      <td>BR</td>\n",
       "      <td>1405</td>\n",
       "      <td>lit</td>\n",
       "      <td>sil</td>\n",
       "      <td>1 éclat</td>\n",
       "      <td></td>\n",
       "      <td>A3</td>\n",
       "      <td></td>\n",
       "      <td></td>\n",
       "      <td></td>\n",
       "      <td></td>\n",
       "      <td></td>\n",
       "    </tr>\n",
       "    <tr>\n",
       "      <th>...</th>\n",
       "      <td>...</td>\n",
       "      <td>...</td>\n",
       "      <td>...</td>\n",
       "      <td>...</td>\n",
       "      <td>...</td>\n",
       "      <td>...</td>\n",
       "      <td>...</td>\n",
       "      <td>...</td>\n",
       "      <td>...</td>\n",
       "      <td>...</td>\n",
       "      <td>...</td>\n",
       "      <td>...</td>\n",
       "      <td>...</td>\n",
       "      <td>...</td>\n",
       "      <td>...</td>\n",
       "      <td>...</td>\n",
       "      <td>...</td>\n",
       "    </tr>\n",
       "    <tr>\n",
       "      <th>873</th>\n",
       "      <td>Spira</td>\n",
       "      <td>6</td>\n",
       "      <td>CHE</td>\n",
       "      <td>2013</td>\n",
       "      <td>1912</td>\n",
       "      <td>BR</td>\n",
       "      <td>9</td>\n",
       "      <td>lit</td>\n",
       "      <td>silex</td>\n",
       "      <td>éclat</td>\n",
       "      <td></td>\n",
       "      <td>A11</td>\n",
       "      <td></td>\n",
       "      <td></td>\n",
       "      <td></td>\n",
       "      <td></td>\n",
       "      <td></td>\n",
       "    </tr>\n",
       "    <tr>\n",
       "      <th>874</th>\n",
       "      <td>Spira</td>\n",
       "      <td>6</td>\n",
       "      <td>CHE</td>\n",
       "      <td>2013</td>\n",
       "      <td>1913</td>\n",
       "      <td>BR</td>\n",
       "      <td>2</td>\n",
       "      <td>lit</td>\n",
       "      <td>silex</td>\n",
       "      <td>lame corticale</td>\n",
       "      <td></td>\n",
       "      <td>F26</td>\n",
       "      <td></td>\n",
       "      <td></td>\n",
       "      <td></td>\n",
       "      <td></td>\n",
       "      <td></td>\n",
       "    </tr>\n",
       "    <tr>\n",
       "      <th>875</th>\n",
       "      <td>Spira</td>\n",
       "      <td>6</td>\n",
       "      <td>CHE</td>\n",
       "      <td>2013</td>\n",
       "      <td>1914</td>\n",
       "      <td>BR</td>\n",
       "      <td>3</td>\n",
       "      <td>lit</td>\n",
       "      <td>silex</td>\n",
       "      <td>éclat cortical</td>\n",
       "      <td></td>\n",
       "      <td>A11</td>\n",
       "      <td></td>\n",
       "      <td></td>\n",
       "      <td></td>\n",
       "      <td></td>\n",
       "      <td></td>\n",
       "    </tr>\n",
       "    <tr>\n",
       "      <th>876</th>\n",
       "      <td>Spira</td>\n",
       "      <td>6</td>\n",
       "      <td>CHE</td>\n",
       "      <td>2013</td>\n",
       "      <td>2236</td>\n",
       "      <td>BR</td>\n",
       "      <td>1</td>\n",
       "      <td>lit</td>\n",
       "      <td>silex</td>\n",
       "      <td>éclat petit</td>\n",
       "      <td></td>\n",
       "      <td>F25</td>\n",
       "      <td></td>\n",
       "      <td></td>\n",
       "      <td></td>\n",
       "      <td></td>\n",
       "      <td></td>\n",
       "    </tr>\n",
       "    <tr>\n",
       "      <th>877</th>\n",
       "      <td></td>\n",
       "      <td></td>\n",
       "      <td>CHE</td>\n",
       "      <td>2013</td>\n",
       "      <td>M</td>\n",
       "      <td>BR</td>\n",
       "      <td>6</td>\n",
       "      <td>lit</td>\n",
       "      <td>silex</td>\n",
       "      <td>1 tout petit petit éclat</td>\n",
       "      <td></td>\n",
       "      <td>A11</td>\n",
       "      <td></td>\n",
       "      <td></td>\n",
       "      <td></td>\n",
       "      <td></td>\n",
       "      <td></td>\n",
       "    </tr>\n",
       "  </tbody>\n",
       "</table>\n",
       "<p>878 rows × 17 columns</p>\n",
       "</div>"
      ],
      "text/plain": [
       "    N°_dépôt N°_caisse Localité Année N°_cantonal Lieu-dit N°_terrain Matière  \\\n",
       "0      Spira        33      CHE  2012        7821       BR       1397     lit   \n",
       "1      Spira        33      CHE  2012        7822       BR       1398     lit   \n",
       "2      Spira        33      CHE  2012        7823       BR       1400     lit   \n",
       "3      Spira        33      CHE  2012        7824       BR       1404     lit   \n",
       "4      Spira        33      CHE  2012        7825       BR       1405     lit   \n",
       "..       ...       ...      ...   ...         ...      ...        ...     ...   \n",
       "873    Spira         6      CHE  2013        1912       BR          9     lit   \n",
       "874    Spira         6      CHE  2013        1913       BR          2     lit   \n",
       "875    Spira         6      CHE  2013        1914       BR          3     lit   \n",
       "876    Spira         6      CHE  2013        2236       BR          1    lit    \n",
       "877                         CHE  2013           M       BR          6    lit    \n",
       "\n",
       "    Caractéristique    Description_de_l'objet Altitude   UF  \\\n",
       "0               sil                   1 éclat            A3   \n",
       "1               sil                   1 éclat            A3   \n",
       "2               sil           1 éclat (grand)            A3   \n",
       "3               sil           1 éclat (grand)            A3   \n",
       "4               sil                   1 éclat            A3   \n",
       "..              ...                       ...      ...  ...   \n",
       "873           silex                     éclat           A11   \n",
       "874           silex            lame corticale           F26   \n",
       "875           silex            éclat cortical           A11   \n",
       "876           silex               éclat petit           F25   \n",
       "877           silex  1 tout petit petit éclat           A11   \n",
       "\n",
       "    Période_culturelle Année_de_restauration Etat_de_conservation  \\\n",
       "0                                                                   \n",
       "1                                                                   \n",
       "2                                                                   \n",
       "3                                                                   \n",
       "4                                                                   \n",
       "..                 ...                   ...                  ...   \n",
       "873                                                                 \n",
       "874                                                                 \n",
       "875                                                                 \n",
       "876                                                                 \n",
       "877                                                                 \n",
       "\n",
       "    Fiche_ITMS_non Remarque_restauration  \n",
       "0                                         \n",
       "1                                         \n",
       "2                                         \n",
       "3                                         \n",
       "4                                         \n",
       "..             ...                   ...  \n",
       "873                                       \n",
       "874                                       \n",
       "875                                       \n",
       "876                                       \n",
       "877                                       \n",
       "\n",
       "[878 rows x 17 columns]"
      ]
     },
     "execution_count": 8,
     "metadata": {},
     "output_type": "execute_result"
    }
   ],
   "source": [
    "#df_sil_list = pd.DataFrame(sil_list[1:], columns=['Dépot','N° caisse','commune1','Commune', 'Année de fouille','N° cantonal', 'Lieu-dit','N° de terrain','récolement LM 2021','Matière','Caracteristique','typologie','nombre','notes','ramassage','Déblais','Couche','Situation','Altitude','Metres N','Metres S','N° structure','Décapage','UF','Date de découverte','Période culturelle','Datation','année restauration','état de conservation','N° photos','A','ficheITMS oui','Fiche ITMS non','Publication','Dessin','inventorié','Restauration','retour restauration','remarques'])\n",
    "df_sil_list = pd.DataFrame(sil_list[1:], columns=colonnes)\n",
    "#sil_infos = df_sil_list[['Dépot','N° caisse','Commune', 'Année de fouille','N° cantonal', 'Lieu-dit','N° de terrain','Matière','Caracteristique','typologie','UF']]\n",
    "sil_infos = df_sil_list[sil_list[0][0:7]+sil_list[0][8:11]+sil_list[0][15:16]+sil_list[0][20:21]+sil_list[0][22:23]+sil_list[0][24:26]+sil_list[0][28:29]+sil_list[0][33:34]]\n",
    "print(len(sil_infos))\n",
    "sil_infos"
   ]
  },
  {
   "cell_type": "markdown",
   "id": "aa289756-55c5-4f52-9df0-03af16c4196a",
   "metadata": {},
   "source": [
    "## insertion dans la BDD"
   ]
  },
  {
   "cell_type": "code",
   "execution_count": 9,
   "id": "c6cc2437-64c2-48d7-ae3e-ae88843849d2",
   "metadata": {},
   "outputs": [],
   "source": [
    "#sil_infos.to_sql(name='base', con=cn, if_exists='replace')"
   ]
  },
  {
   "cell_type": "code",
   "execution_count": 19,
   "id": "8fd766af-931d-45fc-83df-4d25bb6c5ef8",
   "metadata": {},
   "outputs": [
    {
     "ename": "OperationalError",
     "evalue": "near \"CONSTRAINT\": syntax error",
     "output_type": "error",
     "traceback": [
      "\u001b[1;31m---------------------------------------------------------------------------\u001b[0m",
      "\u001b[1;31mOperationalError\u001b[0m                          Traceback (most recent call last)",
      "\u001b[1;32m<ipython-input-19-ed98e01f52a3>\u001b[0m in \u001b[0;36m<module>\u001b[1;34m\u001b[0m\n\u001b[1;32m----> 1\u001b[1;33m \u001b[0mcn\u001b[0m\u001b[1;33m.\u001b[0m\u001b[0mexecute\u001b[0m\u001b[1;33m(\u001b[0m\u001b[1;34m\"\"\"ALTER TABLE base ADD CONSTRAINT PK_numcant PRIMARY KEY (N°_cantonal)\"\"\"\u001b[0m\u001b[1;33m)\u001b[0m\u001b[1;33m\u001b[0m\u001b[1;33m\u001b[0m\u001b[0m\n\u001b[0m",
      "\u001b[1;31mOperationalError\u001b[0m: near \"CONSTRAINT\": syntax error"
     ]
    }
   ],
   "source": [
    "#cn.execute(\"\"\"ALTER TABLE base ADD CONSTRAINT PK_numcant PRIMARY KEY (N°_cantonal)\"\"\")"
   ]
  },
  {
   "cell_type": "markdown",
   "id": "e4637630-094c-477f-bd00-f07997d24d51",
   "metadata": {},
   "source": [
    "## Recherche dans la BDD"
   ]
  },
  {
   "cell_type": "code",
   "execution_count": 27,
   "id": "1bee209d-1676-4813-8c13-c593dd7d4808",
   "metadata": {},
   "outputs": [
    {
     "data": {
      "text/plain": [
       "(102,\n",
       " 'Spira',\n",
       " '33',\n",
       " 'CHE',\n",
       " '2012',\n",
       " '7923',\n",
       " 'BR',\n",
       " '979',\n",
       " 'lit',\n",
       " 'sil',\n",
       " 'galet éclaté',\n",
       " '',\n",
       " 'B7',\n",
       " '',\n",
       " '',\n",
       " '',\n",
       " '',\n",
       " '')"
      ]
     },
     "execution_count": 27,
     "metadata": {},
     "output_type": "execute_result"
    }
   ],
   "source": [
    "### Définir la ligne de la base de données à utiliser (inspécter préalablement la base de données)\n",
    "N_cant = 7923\n",
    "\n",
    "# connnexion à la base de données\n",
    "conn = sql.connect(db)\n",
    "\n",
    "### exécuter la requëte sur la base de donées SQLite pour récupérer les valeurs que contient la ligne\n",
    "c = conn.cursor()\n",
    "c.execute(\"SELECT * FROM base WHERE N°_cantonal= ?\", [N_cant]) ### a list around argument is needed for a string longer then one\n",
    "#c.execute('SELECT * FROM query WHERE pk_query = 10')\n",
    "\n",
    "rc = c.fetchone()\n",
    "\n",
    "# fermer la connexion\n",
    "conn.close()\n",
    "\n",
    "# imprimer et inspecter le résultat\n",
    "rc\n"
   ]
  },
  {
   "cell_type": "markdown",
   "id": "25ad1734-fd96-4556-b6ea-7a69785d163e",
   "metadata": {},
   "source": [
    "## transformer les coordonnées type \"lettre-chiffre\" en coordonées numériques"
   ]
  },
  {
   "cell_type": "code",
   "execution_count": 28,
   "id": "15e22090-e203-43fc-8e2a-946e3bda20df",
   "metadata": {},
   "outputs": [],
   "source": [
    "### Récupérer les coordoonées du site pour les objets qui en disposent\n",
    "\n",
    "cn = sql.connect(db)\n",
    "\n",
    "### exécuter la requëte sur la base de donées SQLite pour récupérer les valeurs que contient la ligne\n",
    "c = cn.cursor()\n",
    "c.execute(\"\"\"\n",
    "SELECT N°_cantonal, UF FROM base \n",
    "WHERE UF IS NOT NULL;\n",
    "\"\"\")\n",
    "rc = c.fetchall()\n",
    "\n",
    "# fermer la connexion\n",
    "cn.close()\n"
   ]
  },
  {
   "cell_type": "code",
   "execution_count": 29,
   "id": "5fbc4426-ac51-4c10-91fe-5f58a381be16",
   "metadata": {},
   "outputs": [
    {
     "data": {
      "text/plain": [
       "[('7933', 'B8'),\n",
       " ('7934', 'B8'),\n",
       " ('7935', 'B8'),\n",
       " ('7936', 'B8'),\n",
       " ('7937', 'B8')]"
      ]
     },
     "execution_count": 29,
     "metadata": {},
     "output_type": "execute_result"
    }
   ],
   "source": [
    "rc[112:117]"
   ]
  },
  {
   "cell_type": "code",
   "execution_count": 30,
   "id": "a9b3b866-dd31-4ff1-a728-5194eae02523",
   "metadata": {},
   "outputs": [],
   "source": [
    "#lister l'alphabet en lettres majuscules\n",
    "alphabet=list(string.ascii_uppercase)\n"
   ]
  },
  {
   "cell_type": "code",
   "execution_count": 24,
   "id": "3d129905-ee4a-4d0c-9e43-58921ea169d8",
   "metadata": {},
   "outputs": [
    {
     "data": {
      "text/plain": [
       "[('7821', 'A3', 3), ('7822', 'A3'), ('7823', 'A3')]"
      ]
     },
     "execution_count": 24,
     "metadata": {},
     "output_type": "execute_result"
    }
   ],
   "source": [
    "#Ajouter un élément par ligne dans rc\n",
    "#a=rc\n",
    "#b=list(a[0])\n",
    "#b.append(3)\n",
    "#a[0]=tuple(b)\n",
    "#a[:3]\n"
   ]
  },
  {
   "cell_type": "code",
   "execution_count": 31,
   "id": "03e50d93-4c40-496b-bee5-6b28971e8d03",
   "metadata": {},
   "outputs": [
    {
     "data": {
      "text/plain": [
       "'A3'"
      ]
     },
     "execution_count": 31,
     "metadata": {},
     "output_type": "execute_result"
    }
   ],
   "source": [
    "#questionner le premier digit de l'UF (la lettre)\n",
    "c=rc[0][1]\n",
    "c"
   ]
  },
  {
   "cell_type": "code",
   "execution_count": 32,
   "id": "00ce8812-93f9-4144-b1f7-c97717cd61a4",
   "metadata": {},
   "outputs": [
    {
     "name": "stdout",
     "output_type": "stream",
     "text": [
      "\n",
      "\n",
      "\n",
      "\n",
      "\n",
      "\n",
      "\n",
      "\n",
      "\n",
      "\n",
      "\n",
      "\n",
      "\n",
      "\n",
      "\n",
      "\n",
      "\n",
      "\n",
      "\n",
      "\n",
      "\n",
      "\n",
      "\n",
      "\n"
     ]
    },
    {
     "data": {
      "text/plain": [
       "[('7821', 'A3', 0),\n",
       " ('7822', 'A3', 0),\n",
       " ('7823', 'A3', 0),\n",
       " ('7824', 'A3', 0),\n",
       " ('7825', 'A3', 0)]"
      ]
     },
     "execution_count": 32,
     "metadata": {},
     "output_type": "execute_result"
    }
   ],
   "source": [
    "lis=[]\n",
    "a=rc\n",
    "for i in rc:\n",
    "    d=i[1]\n",
    "    if d :\n",
    "        if d[0] in alphabet:\n",
    "            e=alphabet.index(d[0])\n",
    "            f=list(i)\n",
    "            f.append(e)\n",
    "            a=tuple(f)\n",
    "            lis.append(a)\n",
    "    else:\n",
    "        print(d)\n",
    "lis[:5]\n",
    "    "
   ]
  },
  {
   "cell_type": "code",
   "execution_count": 33,
   "id": "6258ee66-4168-41c9-8402-685ff12fa172",
   "metadata": {},
   "outputs": [
    {
     "name": "stdout",
     "output_type": "stream",
     "text": [
      "7\n"
     ]
    }
   ],
   "source": [
    "# sortir les chiffres des coordonnées\n",
    "a=rc\n",
    "b=list(a[25])\n",
    "\n",
    "pat = \"[0-9]+$\"              #expression régulière à utilise\n",
    "strin = b[1]            #chaîne à manipuler\n",
    "prog = re.compile(pat)      #création de l'objet d'analyse\n",
    "result = prog.search(strin)    #extration de la chaîne à l'aide de l'expression régulière\n",
    "print(result.group())"
   ]
  },
  {
   "cell_type": "code",
   "execution_count": 34,
   "id": "a71a5631-9ba5-445e-9192-5f8d4766fa66",
   "metadata": {},
   "outputs": [
    {
     "data": {
      "text/plain": [
       "[('7821', 'A3', 0, '3'),\n",
       " ('7822', 'A3', 0, '3'),\n",
       " ('7823', 'A3', 0, '3'),\n",
       " ('7824', 'A3', 0, '3'),\n",
       " ('7825', 'A3', 0, '3')]"
      ]
     },
     "execution_count": 34,
     "metadata": {},
     "output_type": "execute_result"
    }
   ],
   "source": [
    "#Faire une liste avec le chiffre de la 2èeme coordoné séparé\n",
    "a=lis\n",
    "truc=[]\n",
    "for i in lis:\n",
    "    b= i\n",
    "#print(b[1])\n",
    "    pat = \"[0-9]+$\"              #expression régulière à utilise\n",
    "    stri = b[1]            #chaîne à manipuler\n",
    "    prog = re.compile(pat)      #création de l'objet d'analyse\n",
    "    result = prog.search(stri)    #extration de la chaîne à l'aide de l'expression régulière\n",
    "    if result :\n",
    "        g=result.group()\n",
    "        f=list(i)\n",
    "        f.append(g)\n",
    "        a=tuple(f)\n",
    "        truc.append(a)\n",
    "    \n",
    "truc[:5]"
   ]
  },
  {
   "cell_type": "code",
   "execution_count": 35,
   "id": "1f9e669c-af76-497a-ba9a-c63954001818",
   "metadata": {},
   "outputs": [
    {
     "data": {
      "text/html": [
       "<div>\n",
       "<style scoped>\n",
       "    .dataframe tbody tr th:only-of-type {\n",
       "        vertical-align: middle;\n",
       "    }\n",
       "\n",
       "    .dataframe tbody tr th {\n",
       "        vertical-align: top;\n",
       "    }\n",
       "\n",
       "    .dataframe thead th {\n",
       "        text-align: right;\n",
       "    }\n",
       "</style>\n",
       "<table border=\"1\" class=\"dataframe\">\n",
       "  <thead>\n",
       "    <tr style=\"text-align: right;\">\n",
       "      <th></th>\n",
       "      <th>0</th>\n",
       "      <th>1</th>\n",
       "      <th>2</th>\n",
       "      <th>3</th>\n",
       "    </tr>\n",
       "  </thead>\n",
       "  <tbody>\n",
       "    <tr>\n",
       "      <th>0</th>\n",
       "      <td>7821</td>\n",
       "      <td>A3</td>\n",
       "      <td>0</td>\n",
       "      <td>3</td>\n",
       "    </tr>\n",
       "    <tr>\n",
       "      <th>1</th>\n",
       "      <td>7822</td>\n",
       "      <td>A3</td>\n",
       "      <td>0</td>\n",
       "      <td>3</td>\n",
       "    </tr>\n",
       "    <tr>\n",
       "      <th>2</th>\n",
       "      <td>7823</td>\n",
       "      <td>A3</td>\n",
       "      <td>0</td>\n",
       "      <td>3</td>\n",
       "    </tr>\n",
       "    <tr>\n",
       "      <th>3</th>\n",
       "      <td>7824</td>\n",
       "      <td>A3</td>\n",
       "      <td>0</td>\n",
       "      <td>3</td>\n",
       "    </tr>\n",
       "    <tr>\n",
       "      <th>4</th>\n",
       "      <td>7825</td>\n",
       "      <td>A3</td>\n",
       "      <td>0</td>\n",
       "      <td>3</td>\n",
       "    </tr>\n",
       "  </tbody>\n",
       "</table>\n",
       "</div>"
      ],
      "text/plain": [
       "      0   1  2  3\n",
       "0  7821  A3  0  3\n",
       "1  7822  A3  0  3\n",
       "2  7823  A3  0  3\n",
       "3  7824  A3  0  3\n",
       "4  7825  A3  0  3"
      ]
     },
     "execution_count": 35,
     "metadata": {},
     "output_type": "execute_result"
    }
   ],
   "source": [
    "#Affichage joli\n",
    "silcoord = pd.DataFrame(truc)\n",
    "silcoord.head()"
   ]
  },
  {
   "cell_type": "code",
   "execution_count": null,
   "id": "fadaa3c9-331c-46e2-af33-63377bf3ef4e",
   "metadata": {},
   "outputs": [
    {
     "ename": "OperationalError",
     "evalue": "database is locked",
     "output_type": "error",
     "traceback": [
      "\u001b[1;31m---------------------------------------------------------------------------\u001b[0m",
      "\u001b[1;31mOperationalError\u001b[0m                          Traceback (most recent call last)",
      "\u001b[1;32m~\\AppData\\Local\\Temp/ipykernel_13748/483512661.py\u001b[0m in \u001b[0;36m<module>\u001b[1;34m\u001b[0m\n\u001b[0;32m      4\u001b[0m \u001b[0mcn\u001b[0m \u001b[1;33m=\u001b[0m \u001b[0msql\u001b[0m\u001b[1;33m.\u001b[0m\u001b[0mconnect\u001b[0m\u001b[1;33m(\u001b[0m\u001b[0mdb\u001b[0m\u001b[1;33m)\u001b[0m\u001b[1;33m\u001b[0m\u001b[1;33m\u001b[0m\u001b[0m\n\u001b[0;32m      5\u001b[0m \u001b[0mc\u001b[0m \u001b[1;33m=\u001b[0m \u001b[0mcn\u001b[0m\u001b[1;33m.\u001b[0m\u001b[0mcursor\u001b[0m\u001b[1;33m(\u001b[0m\u001b[1;33m)\u001b[0m\u001b[1;33m\u001b[0m\u001b[1;33m\u001b[0m\u001b[0m\n\u001b[1;32m----> 6\u001b[1;33m \u001b[0mc\u001b[0m\u001b[1;33m.\u001b[0m\u001b[0mexecute\u001b[0m\u001b[1;33m(\u001b[0m\u001b[1;34m'ALTER TABLE Silex ADD COLUMN Acci TEXT REFERENCES Abbrev(ACCIDENT)'\u001b[0m\u001b[1;33m)\u001b[0m\u001b[1;33m\u001b[0m\u001b[1;33m\u001b[0m\u001b[0m\n\u001b[0m\u001b[0;32m      7\u001b[0m \u001b[1;31m#c.execute('ALTER TABLE base ADD COLUMN Coord_Y INTEGER')\u001b[0m\u001b[1;33m\u001b[0m\u001b[1;33m\u001b[0m\u001b[1;33m\u001b[0m\u001b[0m\n\u001b[0;32m      8\u001b[0m \u001b[0mcn\u001b[0m\u001b[1;33m.\u001b[0m\u001b[0mclose\u001b[0m\u001b[1;33m(\u001b[0m\u001b[1;33m)\u001b[0m\u001b[1;33m\u001b[0m\u001b[1;33m\u001b[0m\u001b[0m\n",
      "\u001b[1;31mOperationalError\u001b[0m: database is locked"
     ]
    }
   ],
   "source": [
    "#ajout de colonnes à la base de données\n",
    "#vu sur https://moonbooks.org/Articles/Ajouter-une-colonne-%C3%A0-une-table-existante-avec-sqlite-et-python/\n",
    "\n",
    "cn = sql.connect(db)\n",
    "c = cn.cursor()\n",
    "c.execute('ALTER TABLE base ADD COLUMN Coord_X INTEGER')\n",
    "#c.execute('ALTER TABLE base ADD COLUMN Coord_Y INTEGER')\n",
    "cn.close()"
   ]
  },
  {
   "cell_type": "code",
   "execution_count": 37,
   "id": "f12eeae8-fba0-4997-a6a4-6a088238a604",
   "metadata": {},
   "outputs": [],
   "source": [
    "#enlève la dernière ligne de la liste car elle pose problème pour l'insertion dans la BDD. Les données de cette lignes seront modifiées manuellement\n",
    "del truc[-1]"
   ]
  },
  {
   "cell_type": "code",
   "execution_count": 38,
   "id": "243a62de-0bc2-41ef-a0c8-c2a310736a9e",
   "metadata": {},
   "outputs": [],
   "source": [
    "#Faire une boucle pour attribuer ces valeurs aux silex appropriées\n",
    "# connnexion à la base de données\n",
    "conn = sql.connect(db)\n",
    "c = conn.cursor()\n",
    "\n",
    "#Boucle dans notre liste\n",
    "for i in truc:\n",
    "    idsilex=str(i[0])\n",
    "    x=str(i[2])\n",
    "    y=str(i[3])\n",
    "    #print(idsilex,x,y)\n",
    "    tex=(\"UPDATE base SET Coord_X =\"+x+\" WHERE N°_cantonal =\"+idsilex)\n",
    "    tey=(\"UPDATE base SET Coord_Y =\"+y+\" WHERE N°_cantonal =\"+idsilex)\n",
    "    c.execute(tex)\n",
    "    c.execute(tey)\n",
    "    #!!!!!!!!mis en commentaire pour éviter que ça réaffecte la base de données!!!!!#     \n",
    "#conn.commit()\n",
    "\n",
    "conn.close()\n"
   ]
  },
  {
   "cell_type": "code",
   "execution_count": 40,
   "id": "429293c6-c37b-4e77-b41b-7f8db9cddb54",
   "metadata": {},
   "outputs": [],
   "source": [
    "#Créer une seconde table pour l'origine des matière première\n",
    "# connnexion à la base de données\n",
    "conn = sql.connect(db)\n",
    "c = conn.cursor()\n",
    "\n",
    "#Création nouvelle table type de silex\n",
    "Type_origine= \"\"\"\n",
    "    CREATE TABLE Matiere_premiere (\n",
    "    Mat_prem INT PRIMARY KEY,\n",
    "    Lieu_Origine VARCHAR(100),\n",
    "    Origine_Longitude VARCHAR(100),\n",
    "    Origine_Latitude VARCHAR(100)\n",
    "    )\n",
    "    \"\"\"\n",
    "#c.execute(Type_origine)\n",
    "    #!!!!!!!!mis en commentaire pour éviter que ça réaffecte la base de données!!!!!#     \n",
    "#conn.commit()\n",
    "\n",
    "conn.close()\n"
   ]
  },
  {
   "cell_type": "code",
   "execution_count": 41,
   "id": "3e24eb5c-56b6-4a15-b13a-1c2a8ec6f6a5",
   "metadata": {},
   "outputs": [],
   "source": [
    "#ajout de la colonne Matière Première faisant référence à la clé primaire de la table créée ci-dessus\n",
    "#vu sur https://moonbooks.org/Articles/Ajouter-une-colonne-%C3%A0-une-table-existante-avec-sqlite-et-python/\n",
    "\n",
    "cn = sql.connect(db)\n",
    "c = cn.cursor()\n",
    "#c.execute('ALTER TABLE base ADD COLUMN Mat_prem INTEGER REFERENCES Matiere_premiere(Mat_prem)')\n",
    "cn.close()"
   ]
  },
  {
   "cell_type": "code",
   "execution_count": 6,
   "id": "41664c6a-b9bb-4ad6-b1a9-d0821d90d134",
   "metadata": {},
   "outputs": [
    {
     "ename": "OperationalError",
     "evalue": "table Silex already exists",
     "output_type": "error",
     "traceback": [
      "\u001b[1;31m---------------------------------------------------------------------------\u001b[0m",
      "\u001b[1;31mOperationalError\u001b[0m                          Traceback (most recent call last)",
      "\u001b[1;32m<ipython-input-6-16aa2de3332a>\u001b[0m in \u001b[0;36m<module>\u001b[1;34m\u001b[0m\n\u001b[0;32m      4\u001b[0m \u001b[1;33m\u001b[0m\u001b[0m\n\u001b[0;32m      5\u001b[0m \u001b[1;31m#c.execute('''ALTER TABLE base RENAME TO oldbase''')\u001b[0m\u001b[1;33m\u001b[0m\u001b[1;33m\u001b[0m\u001b[1;33m\u001b[0m\u001b[0m\n\u001b[1;32m----> 6\u001b[1;33m c.execute(\"\"\"\n\u001b[0m\u001b[0;32m      7\u001b[0m             CREATE TABLE Silex (\n\u001b[0;32m      8\u001b[0m             \u001b[0midx\u001b[0m \u001b[0mINT\u001b[0m\u001b[1;33m,\u001b[0m\u001b[1;33m\u001b[0m\u001b[1;33m\u001b[0m\u001b[0m\n",
      "\u001b[1;31mOperationalError\u001b[0m: table Silex already exists"
     ]
    }
   ],
   "source": [
    "#création d'une nouvelle table pour les données de base afin de pouvoir définir le N° cantonal comme PRIMARY KEY\n",
    "conn = sql.connect(db)\n",
    "c = conn.cursor()\n",
    "#c.execute('PRAGMA foreign_keys = OFF') \n",
    "\n",
    "#c.execute('''ALTER TABLE base RENAME TO oldbase''')\n",
    "c.execute(\"\"\"\n",
    "            CREATE TABLE Silex (\n",
    "            idx INT,\n",
    "            N°_dépot VARCHAR (20),\n",
    "            N°_caisse INT,\n",
    "            Localité VARCHAR (20),\n",
    "            année INT,\n",
    "            N°_cantonal INT PRIMARY KEY,\n",
    "            Lieu_dit TEXT,\n",
    "            N°_terrain INT,\n",
    "            Matière TEXT,\n",
    "            Caractéristique TEXT,\n",
    "            Description_de_l_objet TEXT,\n",
    "            Altitude INT,\n",
    "            UF INT,\n",
    "            Période_culturelle TEXT,\n",
    "            Année_de_restauration TEXT,\n",
    "            Etat_de_conservation TEXT,\n",
    "            Fiche_ITMS_non TEXT,\n",
    "            Remarque_restauration TEXT,\n",
    "            Coord_X INT,\n",
    "            Coord_Y INT,\n",
    "            Mat_prem INT REFERENCES Matiere_premiere(Mat_prem)\n",
    "            )\n",
    "            \"\"\")\n",
    "\n",
    "#c.execute('INSERT INTO silex SELECT * FROM base')\n",
    "#c.execute('PRAGMA foreign_keys = ON') \n",
    "\n",
    "#close out the connection\n",
    "conn.close()"
   ]
  },
  {
   "cell_type": "code",
   "execution_count": 5,
   "id": "10d65f68-8d3e-435b-ad2c-66c6b945a789",
   "metadata": {},
   "outputs": [
    {
     "data": {
      "text/plain": [
       "<function Connection.close>"
      ]
     },
     "execution_count": 5,
     "metadata": {},
     "output_type": "execute_result"
    }
   ],
   "source": [
    "#Selection de tous les éléments de l'ancienne table pour pouvoir les transférer dans la nouvelle\n",
    "conn = sql.connect(db)\n",
    "c = conn.cursor()\n",
    "c.execute('SELECT * FROM base')\n",
    "rc=c.fetchall()\n",
    "conn.close\n",
    "#rc"
   ]
  },
  {
   "cell_type": "code",
   "execution_count": 7,
   "id": "1a9a363f-f83b-402f-86f2-7d3e3b1f7511",
   "metadata": {},
   "outputs": [],
   "source": [
    "#transfère de tous les éléments\n",
    "conn = sql.connect(db)\n",
    "c = conn.cursor()\n",
    "Insertquerry=\"\"\"INSERT or IGNORE INTO Silex (idx,\n",
    "            N°_dépot,\n",
    "            N°_caisse,\n",
    "            Localité,\n",
    "            année,\n",
    "            N°_cantonal,\n",
    "            Lieu_dit,\n",
    "            N°_terrain,\n",
    "            Matière,\n",
    "            Caractéristique,\n",
    "            Description_de_l_objet,\n",
    "            Altitude,\n",
    "            UF,\n",
    "            Période_culturelle,\n",
    "            Année_de_restauration,\n",
    "            Etat_de_conservation,\n",
    "            Fiche_ITMS_non,\n",
    "            Remarque_restauration,\n",
    "            Coord_X,\n",
    "            Coord_Y,\n",
    "            Mat_prem) VALUES (?,?,?,?,?,?,?,?,?,?,?,?,?,?,?,?,?,?,?,?,?)\n",
    "            \"\"\"\n",
    "for i in rc:\n",
    "    c.execute(Insertquerry, i)\n",
    "    \n",
    "conn.commit()\n",
    "conn.close()"
   ]
  },
  {
   "cell_type": "code",
   "execution_count": 7,
   "id": "d4d6e082-7886-4ef9-9481-749c94e89383",
   "metadata": {},
   "outputs": [],
   "source": [
    "#Créer une table pour la typologie des armatures\n",
    "# connnexion à la base de données\n",
    "conn = sql.connect(db)\n",
    "c = conn.cursor()\n",
    "\n",
    "#Création nouvelle table type de silex\n",
    "Type_origine= \"\"\"\n",
    "    CREATE TABLE Armature (\n",
    "    Num INT,\n",
    "    Classe TEXT,\n",
    "    Type TEXT,\n",
    "    Sous_type TEXT,\n",
    "    Nomenclature TEXT PRIMARY KEY,\n",
    "    Illustration TEXT\n",
    "    )\n",
    "    \"\"\"\n",
    "c.execute(Type_origine)\n",
    "    #!!!!!!!!mis en commentaire pour éviter que ça réaffecte la base de données!!!!!#     \n",
    "#conn.commit()\n",
    "\n",
    "conn.close()\n"
   ]
  },
  {
   "cell_type": "code",
   "execution_count": 24,
   "id": "c125be3e-1191-43bc-9fca-5c589fecdf78",
   "metadata": {},
   "outputs": [
    {
     "data": {
      "text/plain": [
       "['110',\n",
       " 'Bitroncatures symétriques à retouches abruptes',\n",
       " 'Trapèze symétrique',\n",
       " '',\n",
       " 'Trapèze symétrique',\n",
       " 'C:\\\\Users\\\\arman\\\\OneDrive\\\\Documents\\\\GitHub\\\\memoire\\\\data\\\\Images\\\\Typo_arma_110.png']"
      ]
     },
     "execution_count": 24,
     "metadata": {},
     "output_type": "execute_result"
    }
   ],
   "source": [
    "file= 'data\\Typologie_armatures.csv'\n",
    "sil_list = []\n",
    "with open(file, newline='') as csvfile:\n",
    "    read = csv.reader(csvfile, delimiter=';', quotechar='\"')\n",
    "    for row in read:\n",
    "        sil_list.append(row)\n",
    "sil_list[0]\n",
    "#sil_list[0][2]"
   ]
  },
  {
   "cell_type": "code",
   "execution_count": null,
   "id": "87bdec85-a1b1-4d4b-8080-04f75df94dd0",
   "metadata": {},
   "outputs": [],
   "source": []
  },
  {
   "cell_type": "code",
   "execution_count": 25,
   "id": "edde4d62-b047-49a2-badb-d8b297e0dde7",
   "metadata": {},
   "outputs": [],
   "source": [
    "#transfère de tous les éléments\n",
    "conn = sql.connect(db)\n",
    "c = conn.cursor()\n",
    "Insertquerry=\"\"\"INSERT or IGNORE INTO Armature (Num,\n",
    "            Classe,\n",
    "            Type,\n",
    "            Sous_type,\n",
    "            Nomenclature,\n",
    "            Illustration) VALUES (?,?,?,?,?,?)\n",
    "            \"\"\"\n",
    "for i in sil_list:\n",
    "    c.execute(Insertquerry, i)\n",
    "    \n",
    "conn.commit()\n",
    "conn.close()"
   ]
  },
  {
   "cell_type": "code",
   "execution_count": 6,
   "id": "2de48b2a-e62d-4e86-9a35-901949858156",
   "metadata": {},
   "outputs": [],
   "source": [
    "#Créer une table\n",
    "# connnexion à la base de données\n",
    "conn = sql.connect(db)\n",
    "c = conn.cursor()\n",
    "\n",
    "New_table= \"\"\"\n",
    "    CREATE TABLE Accident (\n",
    "    Abbrev TEXT Primary KEY,\n",
    "    Nom TEXT,\n",
    "    Remarque TEXT\n",
    "    )\n",
    "    \"\"\"\n",
    "c.execute(New_table)\n",
    "    #!!!!!!!!mis en commentaire pour éviter que ça réaffecte la base de données!!!!!#     \n",
    "conn.commit()\n",
    "\n",
    "conn.close()\n"
   ]
  },
  {
   "cell_type": "code",
   "execution_count": 66,
   "id": "e22349bb-258e-49f2-9c29-d8e1a7ea80d7",
   "metadata": {},
   "outputs": [
    {
     "data": {
      "text/plain": [
       "['DI', 'Directe']"
      ]
     },
     "execution_count": 66,
     "metadata": {},
     "output_type": "execute_result"
    }
   ],
   "source": [
    "file= 'data\\Code_retouche.csv'\n",
    "sil_list = []\n",
    "with open(file, newline='') as csvfile:\n",
    "    read = csv.reader(csvfile, delimiter=';', quotechar='\"')\n",
    "    for row in read:\n",
    "        sil_list.append(row)\n",
    "sil_list.pop(0)\n",
    "sil_list[0]\n",
    "#sil_list[0][2]"
   ]
  },
  {
   "cell_type": "code",
   "execution_count": 67,
   "id": "e2cc404f-194e-4b74-b68d-6f1018c11d2b",
   "metadata": {},
   "outputs": [],
   "source": [
    "#transfère de tous les éléments\n",
    "conn = sql.connect(db)\n",
    "c = conn.cursor()\n",
    "Insertquerry=\"\"\"INSERT or IGNORE INTO Code_retouche (\n",
    "            Abbreviation,\n",
    "            Nom_complet\n",
    "            ) VALUES (?,?)\n",
    "            \"\"\"\n",
    "for i in sil_list:\n",
    "    c.execute(Insertquerry, i)\n",
    "    \n",
    "conn.commit()\n",
    "conn.close()"
   ]
  },
  {
   "cell_type": "raw",
   "id": "b5b9c1c2-d728-42c7-b4eb-747b5e5a4769",
   "metadata": {},
   "source": []
  },
  {
   "cell_type": "code",
   "execution_count": 22,
   "id": "e52c111b-36b3-4dba-adbd-48022c8ab187",
   "metadata": {},
   "outputs": [],
   "source": [
    "#ajout de colonnes à la base de données\n",
    "#vu sur https://moonbooks.org/Articles/Ajouter-une-colonne-%C3%A0-une-table-existante-avec-sqlite-et-python/\n",
    "\n",
    "cn = sql.connect(db)\n",
    "c = cn.cursor()\n",
    "c.execute('ALTER TABLE Silex ADD COLUMN Ac TEXT REFERENCES Abbrev(Accident)')\n",
    "cn.close()"
   ]
  },
  {
   "cell_type": "code",
   "execution_count": 14,
   "id": "f68fb7f4-1d1b-4511-aef9-3dd93e6a767b",
   "metadata": {},
   "outputs": [],
   "source": [
    "#suppression de colonne de la base de données\n",
    "#vu sur https://moonbooks.org/Articles/Ajouter-une-colonne-%C3%A0-une-table-existante-avec-sqlite-et-python/\n",
    "\n",
    "cn = sql.connect(db)\n",
    "c = cn.cursor()\n",
    "#c.execute('ALTER TABLE Silex DROP COLUMN Ac')\n",
    "cn.close()"
   ]
  },
  {
   "cell_type": "markdown",
   "id": "5682b03f-243b-4cab-aaea-94e2f5085b45",
   "metadata": {},
   "source": [
    "## Renommer une colonne"
   ]
  },
  {
   "cell_type": "code",
   "execution_count": null,
   "id": "253581a2-788f-47b9-bf5f-6f2f0ca47954",
   "metadata": {},
   "outputs": [],
   "source": [
    "cn = sql.connect(db)\n",
    "c = cn.cursor()\n",
    "\n",
    "# Insérer les données\n",
    "c.execute(\"ALTER TABLE Armature RENAME to Typologie\")\n",
    "\n",
    "# valider l'insertion et fermer la base de données\n",
    "cn.commit()\n",
    "cn.close()"
   ]
  },
  {
   "cell_type": "code",
   "execution_count": 7,
   "id": "4eebec64-773c-4f92-847e-f34d3cb6b972",
   "metadata": {},
   "outputs": [],
   "source": [
    "cn = sql.connect(db)\n",
    "c = cn.cursor()\n",
    "\n",
    "# Insérer les données\n",
    "c.execute(\"ALTER TABLE Silex ADD COLUMN Accident TEXT REFERENCES Accident(Abbrev)\")\n",
    "\n",
    "# valider l'insertion et fermer la base de données\n",
    "cn.commit()"
   ]
  },
  {
   "cell_type": "code",
   "execution_count": null,
   "id": "63cbd0a8-ce30-4ba2-a38f-622189915a84",
   "metadata": {},
   "outputs": [],
   "source": []
  },
  {
   "cell_type": "markdown",
   "id": "4c758986-bd90-4b5c-a9d4-da7514e46f00",
   "metadata": {
    "tags": []
   },
   "source": [
    "## Mise à jour des données dans la BDD"
   ]
  },
  {
   "cell_type": "code",
   "execution_count": 227,
   "id": "a39f8e59-78f9-42c2-94be-a3a9a2eb61e5",
   "metadata": {},
   "outputs": [],
   "source": [
    "cn = sql.connect(db)\n",
    "c = cn.cursor()\n",
    "\n",
    "# Insérer les données\n",
    "c.executemany(\"UPDATE Silex SET Typologie=? WHERE N°_cantonal=?\", b)\n",
    "\n",
    "# valider l'insertion et fermer la base de données\n",
    "cn.commit()\n",
    "cn.close()\n"
   ]
  }
 ],
 "metadata": {
  "kernelspec": {
   "display_name": "Python 3 (ipykernel)",
   "language": "python",
   "name": "python3"
  },
  "language_info": {
   "codemirror_mode": {
    "name": "ipython",
    "version": 3
   },
   "file_extension": ".py",
   "mimetype": "text/x-python",
   "name": "python",
   "nbconvert_exporter": "python",
   "pygments_lexer": "ipython3",
   "version": "3.7.12"
  }
 },
 "nbformat": 4,
 "nbformat_minor": 5
}
