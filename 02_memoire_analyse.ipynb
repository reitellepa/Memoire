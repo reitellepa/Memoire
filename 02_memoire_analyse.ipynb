{
 "cells": [
  {
   "cell_type": "code",
   "execution_count": null,
   "id": "eb434630-750b-4b56-82ca-5d0a8d732d08",
   "metadata": {},
   "outputs": [],
   "source": []
  },
  {
   "cell_type": "code",
   "execution_count": 1,
   "id": "8dc95f58-6b9d-4ae0-844e-ff19e37b4d96",
   "metadata": {},
   "outputs": [],
   "source": [
    "from SPARQLWrapper import SPARQLWrapper, SPARQLWrapper2, JSON, TURTLE, XML, RDFXML\n",
    "import pandas as pd\n",
    "import string\n",
    "\n",
    "import matplotlib.pyplot as plt"
   ]
  },
  {
   "cell_type": "code",
   "execution_count": 2,
   "id": "c98eb5cf-ec35-4d0c-9fe4-b58d3b7b6dae",
   "metadata": {},
   "outputs": [],
   "source": [
    "import pprint\n",
    "import csv\n",
    "import ast\n",
    "import re\n",
    "\n",
    "from collections import Counter\n",
    "from operator import itemgetter\n",
    "\n",
    "import sqlite3 as sql\n",
    "import time\n",
    "\n",
    "from importlib import reload\n",
    "from shutil import copyfile"
   ]
  },
  {
   "cell_type": "code",
   "execution_count": 3,
   "id": "ce8720e1-7f22-40eb-957d-3d3118ac665d",
   "metadata": {},
   "outputs": [],
   "source": [
    "#definition de la bdd\n",
    "db = 'data/memoire.db'"
   ]
  },
  {
   "cell_type": "code",
   "execution_count": 4,
   "id": "d6ec7e8b-be1f-417c-a57a-3ae13b7b6850",
   "metadata": {},
   "outputs": [],
   "source": [
    "#connexion à la bdd, crée la bdd si elle n'existe pas encore\n",
    "cn=sql.connect(db)"
   ]
  },
  {
   "cell_type": "code",
   "execution_count": 5,
   "id": "27468d99-3d77-415a-9b91-c08f57537bef",
   "metadata": {},
   "outputs": [],
   "source": [
    "#suppression de table dans la BDD\n",
    "#cursor = cn.cursor()\n",
    "#delete_table = \"\"\"DROP TABLE nom_de_la_table\"\"\"\n",
    "#cursor.execute(delete_table)"
   ]
  },
  {
   "cell_type": "markdown",
   "id": "e4637630-094c-477f-bd00-f07997d24d51",
   "metadata": {},
   "source": [
    "## Recherche dans la BDD"
   ]
  },
  {
   "cell_type": "raw",
   "id": "1ba00f1f-5a6f-4204-9b7e-b348676bd8e6",
   "metadata": {},
   "source": [
    "#liste des caratéristiques de chaque objets dans la base de données\n",
    "Insertquerry=\"\"\"INSERT or IGNORE INTO Silex (idx,\n",
    "            N°_dépot,\n",
    "            N°_caisse,\n",
    "            Localité,\n",
    "            année,\n",
    "            N°_cantonal,\n",
    "            Lieu_dit,\n",
    "            N°_terrain,\n",
    "            Matière,\n",
    "            Caractéristique,\n",
    "            Description_de_l_objet,\n",
    "            Altitude,\n",
    "            UF,\n",
    "            Période_culturelle,\n",
    "            Année_de_restauration,\n",
    "            Etat_de_conservation,\n",
    "            Fiche_ITMS_non,\n",
    "            Remarque_restauration,\n",
    "            Coord_X,\n",
    "            Coord_Y,\n",
    "            Mat_prem,\n",
    "            Typologie\n",
    "           ) VALUES (?,?,?,?,?,?,?,?,?,?,?,?,?,?,?,?,?,?,?,?,?)\n",
    "            \"\"\""
   ]
  },
  {
   "cell_type": "code",
   "execution_count": 5,
   "id": "dda3ef75-177e-4cf8-9e66-bc685c5f6046",
   "metadata": {},
   "outputs": [
    {
     "data": {
      "text/plain": [
       "878"
      ]
     },
     "execution_count": 5,
     "metadata": {},
     "output_type": "execute_result"
    }
   ],
   "source": [
    "### Définir la ligne de la base de données à utiliser (inspécter préalablement la base de données)\n",
    "#N_cant = 7923\n",
    "\n",
    "# connnexion à la base de données\n",
    "conn = sql.connect(db)\n",
    "#Colonne=\"Descroption_de_l'objet\"\n",
    "\n",
    "### exécuter la requëte sur la base de donées SQLite pour récupérer les valeurs que contient la ligne\n",
    "c = conn.cursor()\n",
    "#c.execute('SELECT * FROM base')\n",
    "\n",
    "c.execute('SELECT N°_cantonal, Typologie FROM Silex')\n",
    "#c.execute('SELECT * FROM query WHERE pk_query = 10')\n",
    "\n",
    "rc = c.fetchall()\n",
    "\n",
    "# fermer la connexion\n",
    "conn.close()\n",
    "\n",
    "# imprimer et inspecter le résultat\n",
    "rc[1]\n",
    "len(rc)"
   ]
  },
  {
   "cell_type": "code",
   "execution_count": 6,
   "id": "dcb7805f-221f-4b11-a78d-d08567bfd529",
   "metadata": {},
   "outputs": [
    {
     "data": {
      "text/html": [
       "<div>\n",
       "<style scoped>\n",
       "    .dataframe tbody tr th:only-of-type {\n",
       "        vertical-align: middle;\n",
       "    }\n",
       "\n",
       "    .dataframe tbody tr th {\n",
       "        vertical-align: top;\n",
       "    }\n",
       "\n",
       "    .dataframe thead th {\n",
       "        text-align: right;\n",
       "    }\n",
       "</style>\n",
       "<table border=\"1\" class=\"dataframe\">\n",
       "  <thead>\n",
       "    <tr style=\"text-align: right;\">\n",
       "      <th></th>\n",
       "      <th>N°_Cantonal</th>\n",
       "      <th>Typologie</th>\n",
       "    </tr>\n",
       "  </thead>\n",
       "  <tbody>\n",
       "    <tr>\n",
       "      <th>0</th>\n",
       "      <td>7827</td>\n",
       "      <td>Nucleus</td>\n",
       "    </tr>\n",
       "    <tr>\n",
       "      <th>1</th>\n",
       "      <td>7834</td>\n",
       "      <td>Lamelle</td>\n",
       "    </tr>\n",
       "    <tr>\n",
       "      <th>2</th>\n",
       "      <td>7835</td>\n",
       "      <td>Nucleus</td>\n",
       "    </tr>\n",
       "    <tr>\n",
       "      <th>3</th>\n",
       "      <td>7840</td>\n",
       "      <td>Lamelle</td>\n",
       "    </tr>\n",
       "    <tr>\n",
       "      <th>4</th>\n",
       "      <td>7844</td>\n",
       "      <td>Lame</td>\n",
       "    </tr>\n",
       "  </tbody>\n",
       "</table>\n",
       "</div>"
      ],
      "text/plain": [
       "  N°_Cantonal Typologie\n",
       "0        7827   Nucleus\n",
       "1        7834   Lamelle\n",
       "2        7835   Nucleus\n",
       "3        7840   Lamelle\n",
       "4        7844      Lame"
      ]
     },
     "execution_count": 6,
     "metadata": {},
     "output_type": "execute_result"
    }
   ],
   "source": [
    "df_silex = pd.DataFrame(rc, columns=['N°_Cantonal','Typologie'])\n",
    "df_silex.head()"
   ]
  },
  {
   "cell_type": "code",
   "execution_count": 8,
   "id": "19c667bc-00a2-4b32-a1c2-438a5eaa6038",
   "metadata": {},
   "outputs": [
    {
     "data": {
      "image/png": "[encoded data removed]",
      "text/plain": [
       "<Figure size 432x288 with 1 Axes>"
      ]
     },
     "metadata": {},
     "output_type": "display_data"
    }
   ],
   "source": [
    "df_plot=df_silex[\"Typologie\"].value_counts(normalize=True).plot(kind='pie', autopct='%1.1f%%')"
   ]
  },
  {
   "cell_type": "code",
   "execution_count": 13,
   "id": "8a23ae68-071b-4048-a59c-fa36c8925c19",
   "metadata": {},
   "outputs": [],
   "source": [
    "fig=df_plot.get_figure()\n",
    "fig.savefig('Typologie')"
   ]
  },
  {
   "cell_type": "code",
   "execution_count": 31,
   "id": "bb580ff0-bd62-4287-a20b-e69836eab977",
   "metadata": {},
   "outputs": [
    {
     "data": {
      "text/html": [
       "<div>\n",
       "<style scoped>\n",
       "    .dataframe tbody tr th:only-of-type {\n",
       "        vertical-align: middle;\n",
       "    }\n",
       "\n",
       "    .dataframe tbody tr th {\n",
       "        vertical-align: top;\n",
       "    }\n",
       "\n",
       "    .dataframe thead th {\n",
       "        text-align: right;\n",
       "    }\n",
       "</style>\n",
       "<table border=\"1\" class=\"dataframe\">\n",
       "  <thead>\n",
       "    <tr style=\"text-align: right;\">\n",
       "      <th></th>\n",
       "      <th>N°_Cantonal</th>\n",
       "      <th>UF</th>\n",
       "      <th>Typologie</th>\n",
       "      <th>Typo</th>\n",
       "    </tr>\n",
       "  </thead>\n",
       "  <tbody>\n",
       "    <tr>\n",
       "      <th>0</th>\n",
       "      <td>7827</td>\n",
       "      <td>A5</td>\n",
       "      <td>Nucleus</td>\n",
       "      <td>Nucleus</td>\n",
       "    </tr>\n",
       "    <tr>\n",
       "      <th>1</th>\n",
       "      <td>7834</td>\n",
       "      <td>A5</td>\n",
       "      <td>Lamelle</td>\n",
       "      <td>Lamelle</td>\n",
       "    </tr>\n",
       "    <tr>\n",
       "      <th>2</th>\n",
       "      <td>7835</td>\n",
       "      <td>A5</td>\n",
       "      <td>Nucleus</td>\n",
       "      <td>Nucleus</td>\n",
       "    </tr>\n",
       "    <tr>\n",
       "      <th>3</th>\n",
       "      <td>7840</td>\n",
       "      <td>A6</td>\n",
       "      <td>Lamelle</td>\n",
       "      <td>Lamelle</td>\n",
       "    </tr>\n",
       "    <tr>\n",
       "      <th>4</th>\n",
       "      <td>7844</td>\n",
       "      <td>A7</td>\n",
       "      <td>Lame</td>\n",
       "      <td>Lame</td>\n",
       "    </tr>\n",
       "    <tr>\n",
       "      <th>5</th>\n",
       "      <td>7846</td>\n",
       "      <td>A7</td>\n",
       "      <td>Lamelle</td>\n",
       "      <td>Lamelle</td>\n",
       "    </tr>\n",
       "    <tr>\n",
       "      <th>6</th>\n",
       "      <td>7850</td>\n",
       "      <td>A7</td>\n",
       "      <td>Nucleus</td>\n",
       "      <td>Nucleus</td>\n",
       "    </tr>\n",
       "    <tr>\n",
       "      <th>7</th>\n",
       "      <td>7851</td>\n",
       "      <td>A7</td>\n",
       "      <td>Lamelle</td>\n",
       "      <td>Lamelle</td>\n",
       "    </tr>\n",
       "    <tr>\n",
       "      <th>8</th>\n",
       "      <td>7854</td>\n",
       "      <td>A7</td>\n",
       "      <td>Esquille</td>\n",
       "      <td>Esquille</td>\n",
       "    </tr>\n",
       "    <tr>\n",
       "      <th>9</th>\n",
       "      <td>7855</td>\n",
       "      <td>A8</td>\n",
       "      <td>Nucleus</td>\n",
       "      <td>Nucleus</td>\n",
       "    </tr>\n",
       "  </tbody>\n",
       "</table>\n",
       "</div>"
      ],
      "text/plain": [
       "   N°_Cantonal  UF Typologie      Typo\n",
       "0         7827  A5   Nucleus   Nucleus\n",
       "1         7834  A5   Lamelle   Lamelle\n",
       "2         7835  A5   Nucleus   Nucleus\n",
       "3         7840  A6   Lamelle   Lamelle\n",
       "4         7844  A7      Lame      Lame\n",
       "5         7846  A7   Lamelle   Lamelle\n",
       "6         7850  A7   Nucleus   Nucleus\n",
       "7         7851  A7   Lamelle   Lamelle\n",
       "8         7854  A7  Esquille  Esquille\n",
       "9         7855  A8   Nucleus   Nucleus"
      ]
     },
     "execution_count": 31,
     "metadata": {},
     "output_type": "execute_result"
    }
   ],
   "source": [
    "df_silex['Typo']=df_silex['Typologie']\n",
    "df_silex[:10]"
   ]
  },
  {
   "cell_type": "code",
   "execution_count": 42,
   "id": "857f4a2f-c00c-415c-89d5-81c9f3db7945",
   "metadata": {},
   "outputs": [],
   "source": [
    "df_silex['Ty']=df_silex['Typologie']"
   ]
  },
  {
   "cell_type": "code",
   "execution_count": 51,
   "id": "557f0dea-f793-4611-bf30-fb22fc0a9d8e",
   "metadata": {},
   "outputs": [
    {
     "name": "stdout",
     "output_type": "stream",
     "text": [
      "321\n"
     ]
    },
    {
     "data": {
      "text/html": [
       "<div>\n",
       "<style scoped>\n",
       "    .dataframe tbody tr th:only-of-type {\n",
       "        vertical-align: middle;\n",
       "    }\n",
       "\n",
       "    .dataframe tbody tr th {\n",
       "        vertical-align: top;\n",
       "    }\n",
       "\n",
       "    .dataframe thead th {\n",
       "        text-align: right;\n",
       "    }\n",
       "</style>\n",
       "<table border=\"1\" class=\"dataframe\">\n",
       "  <thead>\n",
       "    <tr style=\"text-align: right;\">\n",
       "      <th></th>\n",
       "      <th>UF</th>\n",
       "      <th>Ty</th>\n",
       "      <th>Typologie</th>\n",
       "      <th>Typo</th>\n",
       "    </tr>\n",
       "  </thead>\n",
       "  <tbody>\n",
       "    <tr>\n",
       "      <th>0</th>\n",
       "      <td>A-B5</td>\n",
       "      <td>Esquille</td>\n",
       "      <td>Esquille</td>\n",
       "      <td>1</td>\n",
       "    </tr>\n",
       "    <tr>\n",
       "      <th>1</th>\n",
       "      <td>A-B5</td>\n",
       "      <td>Lamelle</td>\n",
       "      <td>Lamelle</td>\n",
       "      <td>1</td>\n",
       "    </tr>\n",
       "    <tr>\n",
       "      <th>2</th>\n",
       "      <td>A-B5</td>\n",
       "      <td>éclat</td>\n",
       "      <td>éclat,éclat,éclat,éclat,éclat,éclat,éclat</td>\n",
       "      <td>7</td>\n",
       "    </tr>\n",
       "    <tr>\n",
       "      <th>3</th>\n",
       "      <td>A10</td>\n",
       "      <td>Esquille</td>\n",
       "      <td>Esquille,Esquille</td>\n",
       "      <td>2</td>\n",
       "    </tr>\n",
       "    <tr>\n",
       "      <th>4</th>\n",
       "      <td>A10</td>\n",
       "      <td>Lame</td>\n",
       "      <td>Lame</td>\n",
       "      <td>1</td>\n",
       "    </tr>\n",
       "    <tr>\n",
       "      <th>5</th>\n",
       "      <td>A10</td>\n",
       "      <td>éclat</td>\n",
       "      <td>éclat,éclat,éclat,éclat</td>\n",
       "      <td>4</td>\n",
       "    </tr>\n",
       "    <tr>\n",
       "      <th>10</th>\n",
       "      <td>A11</td>\n",
       "      <td>éclat</td>\n",
       "      <td>éclat,éclat,éclat,éclat,éclat,éclat,éclat,écla...</td>\n",
       "      <td>20</td>\n",
       "    </tr>\n",
       "    <tr>\n",
       "      <th>8</th>\n",
       "      <td>A11</td>\n",
       "      <td>Lamelle</td>\n",
       "      <td>Lamelle,Lamelle,Lamelle,Lamelle</td>\n",
       "      <td>4</td>\n",
       "    </tr>\n",
       "    <tr>\n",
       "      <th>9</th>\n",
       "      <td>A11</td>\n",
       "      <td>Nucleus</td>\n",
       "      <td>Nucleus</td>\n",
       "      <td>1</td>\n",
       "    </tr>\n",
       "    <tr>\n",
       "      <th>6</th>\n",
       "      <td>A11</td>\n",
       "      <td>Esquille</td>\n",
       "      <td>Esquille</td>\n",
       "      <td>1</td>\n",
       "    </tr>\n",
       "  </tbody>\n",
       "</table>\n",
       "</div>"
      ],
      "text/plain": [
       "      UF        Ty                                          Typologie  Typo\n",
       "0   A-B5  Esquille                                           Esquille     1\n",
       "1   A-B5   Lamelle                                            Lamelle     1\n",
       "2   A-B5     éclat          éclat,éclat,éclat,éclat,éclat,éclat,éclat     7\n",
       "3    A10  Esquille                                  Esquille,Esquille     2\n",
       "4    A10      Lame                                               Lame     1\n",
       "5    A10     éclat                            éclat,éclat,éclat,éclat     4\n",
       "10   A11     éclat  éclat,éclat,éclat,éclat,éclat,éclat,éclat,écla...    20\n",
       "8    A11   Lamelle                    Lamelle,Lamelle,Lamelle,Lamelle     4\n",
       "9    A11   Nucleus                                            Nucleus     1\n",
       "6    A11  Esquille                                           Esquille     1"
      ]
     },
     "execution_count": 51,
     "metadata": {},
     "output_type": "execute_result"
    }
   ],
   "source": [
    "### Regrouper par UF\n",
    "place_count = df_silex.groupby(['UF', 'Typologie', 'Ty'], as_index=False) \\\n",
    "      .agg({'Typologie': ','.join, 'Typo': 'count'}).sort_values(by=['UF'])\n",
    "print(len(place_count))\n",
    "place_count[:10]"
   ]
  },
  {
   "cell_type": "code",
   "execution_count": null,
   "id": "607b2b22-62db-4172-baf5-be4b191dd8a0",
   "metadata": {},
   "outputs": [],
   "source": []
  },
  {
   "cell_type": "code",
   "execution_count": 53,
   "id": "4290726b-9088-4abc-9df5-74935e0dd5de",
   "metadata": {},
   "outputs": [
    {
     "data": {
      "text/html": [
       "<div>\n",
       "<style scoped>\n",
       "    .dataframe tbody tr th:only-of-type {\n",
       "        vertical-align: middle;\n",
       "    }\n",
       "\n",
       "    .dataframe tbody tr th {\n",
       "        vertical-align: top;\n",
       "    }\n",
       "\n",
       "    .dataframe thead th {\n",
       "        text-align: right;\n",
       "    }\n",
       "</style>\n",
       "<table border=\"1\" class=\"dataframe\">\n",
       "  <thead>\n",
       "    <tr style=\"text-align: right;\">\n",
       "      <th>Ty</th>\n",
       "      <th>Armature</th>\n",
       "      <th>Esquille</th>\n",
       "      <th>Lame</th>\n",
       "      <th>Lamelle</th>\n",
       "      <th>Nucleus</th>\n",
       "      <th>Rognon</th>\n",
       "      <th>grattoir</th>\n",
       "      <th>éclat</th>\n",
       "    </tr>\n",
       "    <tr>\n",
       "      <th>UF</th>\n",
       "      <th></th>\n",
       "      <th></th>\n",
       "      <th></th>\n",
       "      <th></th>\n",
       "      <th></th>\n",
       "      <th></th>\n",
       "      <th></th>\n",
       "      <th></th>\n",
       "    </tr>\n",
       "  </thead>\n",
       "  <tbody>\n",
       "    <tr>\n",
       "      <th>A-B5</th>\n",
       "      <td>NaN</td>\n",
       "      <td>1.0</td>\n",
       "      <td>NaN</td>\n",
       "      <td>1.0</td>\n",
       "      <td>NaN</td>\n",
       "      <td>NaN</td>\n",
       "      <td>NaN</td>\n",
       "      <td>7.0</td>\n",
       "    </tr>\n",
       "    <tr>\n",
       "      <th>A10</th>\n",
       "      <td>NaN</td>\n",
       "      <td>2.0</td>\n",
       "      <td>1.0</td>\n",
       "      <td>NaN</td>\n",
       "      <td>NaN</td>\n",
       "      <td>NaN</td>\n",
       "      <td>NaN</td>\n",
       "      <td>4.0</td>\n",
       "    </tr>\n",
       "    <tr>\n",
       "      <th>A11</th>\n",
       "      <td>NaN</td>\n",
       "      <td>1.0</td>\n",
       "      <td>2.0</td>\n",
       "      <td>4.0</td>\n",
       "      <td>1.0</td>\n",
       "      <td>NaN</td>\n",
       "      <td>NaN</td>\n",
       "      <td>20.0</td>\n",
       "    </tr>\n",
       "    <tr>\n",
       "      <th>A3</th>\n",
       "      <td>NaN</td>\n",
       "      <td>NaN</td>\n",
       "      <td>NaN</td>\n",
       "      <td>NaN</td>\n",
       "      <td>NaN</td>\n",
       "      <td>NaN</td>\n",
       "      <td>NaN</td>\n",
       "      <td>5.0</td>\n",
       "    </tr>\n",
       "    <tr>\n",
       "      <th>A4</th>\n",
       "      <td>NaN</td>\n",
       "      <td>NaN</td>\n",
       "      <td>NaN</td>\n",
       "      <td>NaN</td>\n",
       "      <td>NaN</td>\n",
       "      <td>NaN</td>\n",
       "      <td>NaN</td>\n",
       "      <td>3.0</td>\n",
       "    </tr>\n",
       "    <tr>\n",
       "      <th>A5</th>\n",
       "      <td>NaN</td>\n",
       "      <td>NaN</td>\n",
       "      <td>NaN</td>\n",
       "      <td>1.0</td>\n",
       "      <td>2.0</td>\n",
       "      <td>NaN</td>\n",
       "      <td>NaN</td>\n",
       "      <td>4.0</td>\n",
       "    </tr>\n",
       "    <tr>\n",
       "      <th>A6</th>\n",
       "      <td>NaN</td>\n",
       "      <td>NaN</td>\n",
       "      <td>NaN</td>\n",
       "      <td>1.0</td>\n",
       "      <td>NaN</td>\n",
       "      <td>NaN</td>\n",
       "      <td>NaN</td>\n",
       "      <td>7.0</td>\n",
       "    </tr>\n",
       "    <tr>\n",
       "      <th>A7</th>\n",
       "      <td>NaN</td>\n",
       "      <td>1.0</td>\n",
       "      <td>1.0</td>\n",
       "      <td>2.0</td>\n",
       "      <td>1.0</td>\n",
       "      <td>NaN</td>\n",
       "      <td>NaN</td>\n",
       "      <td>6.0</td>\n",
       "    </tr>\n",
       "    <tr>\n",
       "      <th>A8</th>\n",
       "      <td>NaN</td>\n",
       "      <td>1.0</td>\n",
       "      <td>1.0</td>\n",
       "      <td>3.0</td>\n",
       "      <td>1.0</td>\n",
       "      <td>NaN</td>\n",
       "      <td>NaN</td>\n",
       "      <td>1.0</td>\n",
       "    </tr>\n",
       "    <tr>\n",
       "      <th>A9</th>\n",
       "      <td>NaN</td>\n",
       "      <td>NaN</td>\n",
       "      <td>1.0</td>\n",
       "      <td>2.0</td>\n",
       "      <td>NaN</td>\n",
       "      <td>NaN</td>\n",
       "      <td>NaN</td>\n",
       "      <td>4.0</td>\n",
       "    </tr>\n",
       "  </tbody>\n",
       "</table>\n",
       "</div>"
      ],
      "text/plain": [
       "Ty    Armature  Esquille  Lame  Lamelle  Nucleus  Rognon  grattoir  éclat\n",
       "UF                                                                       \n",
       "A-B5       NaN       1.0   NaN      1.0      NaN     NaN       NaN    7.0\n",
       "A10        NaN       2.0   1.0      NaN      NaN     NaN       NaN    4.0\n",
       "A11        NaN       1.0   2.0      4.0      1.0     NaN       NaN   20.0\n",
       "A3         NaN       NaN   NaN      NaN      NaN     NaN       NaN    5.0\n",
       "A4         NaN       NaN   NaN      NaN      NaN     NaN       NaN    3.0\n",
       "A5         NaN       NaN   NaN      1.0      2.0     NaN       NaN    4.0\n",
       "A6         NaN       NaN   NaN      1.0      NaN     NaN       NaN    7.0\n",
       "A7         NaN       1.0   1.0      2.0      1.0     NaN       NaN    6.0\n",
       "A8         NaN       1.0   1.0      3.0      1.0     NaN       NaN    1.0\n",
       "A9         NaN       NaN   1.0      2.0      NaN     NaN       NaN    4.0"
      ]
     },
     "execution_count": 53,
     "metadata": {},
     "output_type": "execute_result"
    }
   ],
   "source": [
    "df_carre=place_count.pivot(index='UF', columns='Ty', values='Typo')\n",
    "df_carre[:10]"
   ]
  },
  {
   "cell_type": "code",
   "execution_count": 54,
   "id": "da5865e7-12ff-402b-b91e-eaeeab589cf4",
   "metadata": {},
   "outputs": [],
   "source": [
    "df_carre.to_excel(r'Typo_par_carre.xlsx', index = True)"
   ]
  },
  {
   "cell_type": "code",
   "execution_count": 224,
   "id": "bad80c06-7ff6-441a-a2dd-0883d12f3a25",
   "metadata": {},
   "outputs": [
    {
     "data": {
      "text/plain": [
       "18"
      ]
     },
     "execution_count": 224,
     "metadata": {},
     "output_type": "execute_result"
    }
   ],
   "source": [
    "g=list()\n",
    "for i in range(len(rc)):\n",
    "    if \"poi\" in rc[i][0]:\n",
    "        g.append(rc[i])\n",
    "    \n",
    "len(g)"
   ]
  },
  {
   "cell_type": "code",
   "execution_count": null,
   "id": "d47bf08c-cc07-4d56-859a-e40f9af4e486",
   "metadata": {},
   "outputs": [],
   "source": []
  },
  {
   "cell_type": "code",
   "execution_count": 225,
   "id": "a7b097dd-2c68-473e-bebd-a4710428d002",
   "metadata": {},
   "outputs": [
    {
     "data": {
      "text/plain": [
       "[('pointe retouchée à tronquature', 7910),\n",
       " ('pointe retouchée', 7934),\n",
       " ('pointe à tronquature', 7959),\n",
       " ('pointe à retouches denticulées sur 1 côté', 8105),\n",
       " ('pointe à tronquature cassée', 8171),\n",
       " ('pointe retouchée ?', 8179),\n",
       " ('pointe de flèche à ailette, bord denticulé', 8196),\n",
       " ('pointe corticale à tronquature', 8211),\n",
       " ('pointe  ', 8227),\n",
       " ('pointe à tronquature oblique', 8279),\n",
       " ('pointe à tronquature ou trapèze?', 8317),\n",
       " ('pointe à tronquature oblique', 8355),\n",
       " ('pointe à tronquature oblique', 8369),\n",
       " ('pointe corticale ?', 8428),\n",
       " ('pointe ', 8500),\n",
       " ('1 pointe de flèche néol.', 8511),\n",
       " ('pointe ', 10465),\n",
       " ('pointe', 1869)]"
      ]
     },
     "execution_count": 225,
     "metadata": {},
     "output_type": "execute_result"
    }
   ],
   "source": [
    "g"
   ]
  },
  {
   "cell_type": "code",
   "execution_count": 226,
   "id": "228127c0-443f-4b4d-a321-52ec9e652e62",
   "metadata": {},
   "outputs": [
    {
     "data": {
      "text/plain": [
       "[['Armature', 8171],\n",
       " ['Armature', 8179],\n",
       " ['Armature', 8196],\n",
       " ['Armature', 8211]]"
      ]
     },
     "execution_count": 226,
     "metadata": {},
     "output_type": "execute_result"
    }
   ],
   "source": [
    "b=list()\n",
    "for i in range(len(g)):\n",
    "    a=list(g[i])\n",
    "    a[0]='Armature'\n",
    "    b.append(a)\n",
    "b[4:8]"
   ]
  },
  {
   "cell_type": "markdown",
   "id": "0951dc1d-d525-4cb2-827f-98cec8da8573",
   "metadata": {},
   "source": [
    "## Mise à jour des données dans la BDD"
   ]
  },
  {
   "cell_type": "code",
   "execution_count": 227,
   "id": "87bdec85-a1b1-4d4b-8080-04f75df94dd0",
   "metadata": {},
   "outputs": [],
   "source": [
    "cn = sql.connect(db)\n",
    "c = cn.cursor()\n",
    "\n",
    "# Insérer les données\n",
    "c.executemany(\"UPDATE Silex SET Typologie=? WHERE N°_cantonal=?\", b)\n",
    "\n",
    "# valider l'insertion et fermer la base de données\n",
    "cn.commit()\n",
    "cn.close()\n"
   ]
  },
  {
   "cell_type": "raw",
   "id": "b5b9c1c2-d728-42c7-b4eb-747b5e5a4769",
   "metadata": {},
   "source": []
  }
 ],
 "metadata": {
  "kernelspec": {
   "display_name": "Python 3 (ipykernel)",
   "language": "python",
   "name": "python3"
  },
  "language_info": {
   "codemirror_mode": {
    "name": "ipython",
    "version": 3
   },
   "file_extension": ".py",
   "mimetype": "text/x-python",
   "name": "python",
   "nbconvert_exporter": "python",
   "pygments_lexer": "ipython3",
   "version": "3.7.12"
  }
 },
 "nbformat": 4,
 "nbformat_minor": 5
}
